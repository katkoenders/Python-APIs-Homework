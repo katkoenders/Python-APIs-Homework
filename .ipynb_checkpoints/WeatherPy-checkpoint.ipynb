{
 "cells": [
  {
   "cell_type": "code",
   "execution_count": 1,
   "metadata": {
    "scrolled": true
   },
   "outputs": [],
   "source": [
    "# Dependencies and Setup\n",
    "import matplotlib.pyplot as plt\n",
    "import pandas as pd\n",
    "import numpy as np\n",
    "import requests\n",
    "import time\n",
    "from scipy.stats import linregress\n",
    "from scipy import stats\n",
    "\n",
    "# Import API key\n",
    "from api_keys import weather_api_key\n",
    "\n",
    "# Incorporated citipy to determine city based on latitude and longitude\n",
    "from citipy import citipy\n",
    "\n",
    "# Output File (CSV)\n",
    "output_data_file = \"output_data/cities.csv\"\n",
    "\n",
    "# Range of latitudes and longitudes\n",
    "lat_range = (-90, 90)\n",
    "lng_range = (-180, 180)\n",
    "\n",
    "class color:\n",
    "    BOLD='\\033[1m'\n",
    "    END='\\033[0m'"
   ]
  },
  {
   "cell_type": "markdown",
   "metadata": {},
   "source": [
    "## Generate Cities List"
   ]
  },
  {
   "cell_type": "code",
   "execution_count": 2,
   "metadata": {},
   "outputs": [
    {
     "data": {
      "text/plain": [
       "596"
      ]
     },
     "execution_count": 2,
     "metadata": {},
     "output_type": "execute_result"
    }
   ],
   "source": [
    "# List for holding lat_lngs and cities\n",
    "lat_lngs = []\n",
    "cities = []\n",
    "\n",
    "# Create a set of random lat and lng combinations\n",
    "lats = np.random.uniform(low=-90.000, high=90.000, size=1500)\n",
    "lngs = np.random.uniform(low=-180.000, high=180.000, size=1500)\n",
    "lat_lngs = zip(lats, lngs)\n",
    "\n",
    "#One second interval between queries to stay within API query limits\n",
    "time.sleep(1)\n",
    "\n",
    "# Identify nearest city for each lat, lng combination\n",
    "for lat_lng in lat_lngs:\n",
    "    city = citipy.nearest_city(lat_lng[0], lat_lng[1]).city_name\n",
    "    \n",
    "    # If the city is unique, then add it to a our cities list\n",
    "    if city not in cities:\n",
    "        cities.append(city)\n",
    "\n",
    "# Print the city count to confirm sufficient count\n",
    "len(cities)"
   ]
  },
  {
   "cell_type": "markdown",
   "metadata": {},
   "source": [
    "### Perform API Calls\n",
    "* Perform a weather check on each city using a series of successive API calls.\n",
    "* Include a print log of each city as it'sbeing processed (with the city number and city name).\n"
   ]
  },
  {
   "cell_type": "code",
   "execution_count": 3,
   "metadata": {},
   "outputs": [
    {
     "name": "stdout",
     "output_type": "stream",
     "text": [
      "Beginning Data Retrieval\n",
      "--------------------------\n",
      "Processing Record 1 of Set 1 | port alfred\n",
      "Processing Record 2 of Set 1 | avarua\n",
      "Processing Record 3 of Set 1 | ushuaia\n",
      "Processing Record 4 of Set 1 | geraldton\n",
      "Processing Record 5 of Set 1 | krasnoselkup\n",
      "Processing Record 6 of Set 1 | sanandaj\n",
      "Processing Record 7 of Set 1 | hermanus\n",
      "Processing Record 8 of Set 1 | illoqqortoormiut\n",
      "City \u001b[1mnot \u001b[0mfound. Skipping...\n",
      "Processing Record 9 of Set 1 | dawlatabad\n",
      "Processing Record 10 of Set 1 | fukue\n",
      "Processing Record 11 of Set 1 | yar-sale\n",
      "Processing Record 12 of Set 1 | valdivia\n",
      "Processing Record 13 of Set 1 | new norfolk\n",
      "Processing Record 14 of Set 1 | port-de-bouc\n",
      "Processing Record 15 of Set 1 | bubaque\n",
      "Processing Record 16 of Set 1 | umzimvubu\n",
      "City \u001b[1mnot \u001b[0mfound. Skipping...\n",
      "Processing Record 17 of Set 1 | touros\n",
      "Processing Record 18 of Set 1 | cibitoke\n",
      "Processing Record 19 of Set 1 | yellowknife\n",
      "Processing Record 20 of Set 1 | cape town\n",
      "Processing Record 21 of Set 1 | sechura\n",
      "Processing Record 22 of Set 1 | emerald\n",
      "Processing Record 23 of Set 1 | cayenne\n",
      "Processing Record 24 of Set 1 | aklavik\n",
      "Processing Record 25 of Set 1 | talnakh\n",
      "Processing Record 26 of Set 1 | hilo\n",
      "Processing Record 27 of Set 1 | yabelo\n",
      "Processing Record 28 of Set 1 | kloulklubed\n",
      "Processing Record 29 of Set 1 | barentsburg\n",
      "City \u001b[1mnot \u001b[0mfound. Skipping...\n",
      "Processing Record 30 of Set 1 | henties bay\n",
      "Processing Record 31 of Set 1 | hobart\n",
      "Processing Record 32 of Set 1 | arraial do cabo\n",
      "Processing Record 33 of Set 1 | mataura\n",
      "Processing Record 34 of Set 1 | mahebourg\n",
      "Processing Record 35 of Set 1 | eureka\n",
      "Processing Record 36 of Set 1 | sorland\n",
      "Processing Record 37 of Set 1 | jiwani\n",
      "Processing Record 38 of Set 1 | marcona\n",
      "City \u001b[1mnot \u001b[0mfound. Skipping...\n",
      "Processing Record 39 of Set 1 | tabiauea\n",
      "City \u001b[1mnot \u001b[0mfound. Skipping...\n",
      "Processing Record 40 of Set 1 | nikolskoye\n",
      "Processing Record 41 of Set 1 | russell\n",
      "Processing Record 42 of Set 1 | wasilla\n",
      "Processing Record 43 of Set 1 | bang saphan\n",
      "Processing Record 44 of Set 1 | husavik\n",
      "Processing Record 45 of Set 1 | riyadh\n",
      "Processing Record 46 of Set 1 | busselton\n",
      "Processing Record 47 of Set 1 | terrace\n",
      "Processing Record 48 of Set 1 | jamestown\n",
      "Processing Record 49 of Set 1 | yakima\n",
      "Processing Record 50 of Set 1 | stephenville\n",
      "Processing Record 1 of Set 2 | ponta do sol\n",
      "Processing Record 2 of Set 2 | sept-iles\n",
      "Processing Record 3 of Set 2 | butaritari\n",
      "Processing Record 4 of Set 2 | kodiak\n",
      "Processing Record 5 of Set 2 | lompoc\n",
      "Processing Record 6 of Set 2 | punta arenas\n",
      "Processing Record 7 of Set 2 | ilulissat\n",
      "Processing Record 8 of Set 2 | amderma\n",
      "City \u001b[1mnot \u001b[0mfound. Skipping...\n",
      "Processing Record 9 of Set 2 | guerrero negro\n",
      "Processing Record 10 of Set 2 | vaini\n",
      "Processing Record 11 of Set 2 | qaanaaq\n",
      "Processing Record 12 of Set 2 | kapaa\n",
      "Processing Record 13 of Set 2 | dalby\n",
      "Processing Record 14 of Set 2 | zhezkazgan\n",
      "Processing Record 15 of Set 2 | deputatskiy\n",
      "Processing Record 16 of Set 2 | yenagoa\n",
      "Processing Record 17 of Set 2 | uvat\n",
      "Processing Record 18 of Set 2 | atuona\n",
      "Processing Record 19 of Set 2 | rawson\n",
      "Processing Record 20 of Set 2 | sarh\n",
      "Processing Record 21 of Set 2 | tessalit\n",
      "Processing Record 22 of Set 2 | hamilton\n",
      "Processing Record 23 of Set 2 | faanui\n",
      "Processing Record 24 of Set 2 | nanortalik\n",
      "Processing Record 25 of Set 2 | itaituba\n",
      "Processing Record 26 of Set 2 | rikitea\n",
      "Processing Record 27 of Set 2 | khatanga\n",
      "Processing Record 28 of Set 2 | kavieng\n",
      "Processing Record 29 of Set 2 | znamenskoye\n",
      "Processing Record 30 of Set 2 | barrow\n",
      "Processing Record 31 of Set 2 | pontes e lacerda\n",
      "Processing Record 32 of Set 2 | praya\n",
      "Processing Record 33 of Set 2 | pacific grove\n",
      "Processing Record 34 of Set 2 | kruisfontein\n",
      "Processing Record 35 of Set 2 | tiksi\n",
      "Processing Record 36 of Set 2 | halalo\n",
      "City \u001b[1mnot \u001b[0mfound. Skipping...\n",
      "Processing Record 37 of Set 2 | souillac\n",
      "Processing Record 38 of Set 2 | havoysund\n",
      "Processing Record 39 of Set 2 | jaisalmer\n",
      "Processing Record 40 of Set 2 | tuktoyaktuk\n",
      "Processing Record 41 of Set 2 | afmadu\n",
      "City \u001b[1mnot \u001b[0mfound. Skipping...\n",
      "Processing Record 42 of Set 2 | padang\n",
      "Processing Record 43 of Set 2 | sinjhoro\n",
      "Processing Record 44 of Set 2 | fortuna\n",
      "Processing Record 45 of Set 2 | ondorhaan\n",
      "City \u001b[1mnot \u001b[0mfound. Skipping...\n",
      "Processing Record 46 of Set 2 | bengkulu\n",
      "Processing Record 47 of Set 2 | west wendover\n",
      "Processing Record 48 of Set 2 | felanitx\n",
      "Processing Record 49 of Set 2 | asau\n",
      "Processing Record 50 of Set 2 | townsville\n",
      "Processing Record 1 of Set 3 | cabo san lucas\n",
      "Processing Record 2 of Set 3 | thompson\n",
      "Processing Record 3 of Set 3 | iqaluit\n",
      "Processing Record 4 of Set 3 | bluff\n",
      "Processing Record 5 of Set 3 | tasiilaq\n",
      "Processing Record 6 of Set 3 | bur gabo\n",
      "City \u001b[1mnot \u001b[0mfound. Skipping...\n",
      "Processing Record 7 of Set 3 | tumannyy\n",
      "City \u001b[1mnot \u001b[0mfound. Skipping...\n",
      "Processing Record 8 of Set 3 | tokur\n",
      "Processing Record 9 of Set 3 | tabou\n",
      "Processing Record 10 of Set 3 | masuda\n",
      "Processing Record 11 of Set 3 | carnarvon\n",
      "Processing Record 12 of Set 3 | hithadhoo\n",
      "Processing Record 13 of Set 3 | waddan\n",
      "Processing Record 14 of Set 3 | taoudenni\n",
      "Processing Record 15 of Set 3 | yerbogachen\n",
      "Processing Record 16 of Set 3 | amapa\n",
      "Processing Record 17 of Set 3 | bahir dar\n",
      "Processing Record 18 of Set 3 | ancud\n",
      "Processing Record 19 of Set 3 | ukwa\n",
      "Processing Record 20 of Set 3 | bethel\n",
      "Processing Record 21 of Set 3 | sentyabrskiy\n",
      "City \u001b[1mnot \u001b[0mfound. Skipping...\n",
      "Processing Record 22 of Set 3 | cherskiy\n",
      "Processing Record 23 of Set 3 | saskylakh\n",
      "Processing Record 24 of Set 3 | dikson\n",
      "Processing Record 25 of Set 3 | broken hill\n",
      "Processing Record 26 of Set 3 | oranjemund\n",
      "Processing Record 27 of Set 3 | bambari\n",
      "Processing Record 28 of Set 3 | mackay\n",
      "Processing Record 29 of Set 3 | severo-kurilsk\n",
      "Processing Record 30 of Set 3 | mys shmidta\n",
      "City \u001b[1mnot \u001b[0mfound. Skipping...\n",
      "Processing Record 31 of Set 3 | port hedland\n",
      "Processing Record 32 of Set 3 | puerto ayora\n",
      "Processing Record 33 of Set 3 | long beach\n",
      "Processing Record 34 of Set 3 | lazaro cardenas\n",
      "Processing Record 35 of Set 3 | torbay\n",
      "Processing Record 36 of Set 3 | port elizabeth\n",
      "Processing Record 37 of Set 3 | kaitangata\n",
      "Processing Record 38 of Set 3 | upernavik\n",
      "Processing Record 39 of Set 3 | kirakira\n",
      "Processing Record 40 of Set 3 | mar del plata\n",
      "Processing Record 41 of Set 3 | coquimbo\n",
      "Processing Record 42 of Set 3 | college\n",
      "Processing Record 43 of Set 3 | beringovskiy\n",
      "Processing Record 44 of Set 3 | albany\n",
      "Processing Record 45 of Set 3 | kununurra\n",
      "Processing Record 46 of Set 3 | chuy\n",
      "Processing Record 47 of Set 3 | itoman\n",
      "Processing Record 48 of Set 3 | klaksvik\n",
      "Processing Record 49 of Set 3 | kieta\n",
      "Processing Record 50 of Set 3 | shilong\n",
      "Processing Record 1 of Set 4 | lorengau\n",
      "Processing Record 2 of Set 4 | attawapiskat\n",
      "City \u001b[1mnot \u001b[0mfound. Skipping...\n",
      "Processing Record 3 of Set 4 | saint-philippe\n",
      "Processing Record 4 of Set 4 | kavaratti\n",
      "Processing Record 5 of Set 4 | quatre cocos\n",
      "Processing Record 6 of Set 4 | bredasdorp\n",
      "Processing Record 7 of Set 4 | abu dhabi\n",
      "Processing Record 8 of Set 4 | airai\n",
      "Processing Record 9 of Set 4 | malanje\n",
      "Processing Record 10 of Set 4 | nemuro\n",
      "Processing Record 11 of Set 4 | egvekinot\n",
      "Processing Record 12 of Set 4 | yumen\n",
      "Processing Record 13 of Set 4 | codrington\n",
      "Processing Record 14 of Set 4 | bandarbeyla\n",
      "Processing Record 15 of Set 4 | la baule-escoublac\n",
      "Processing Record 16 of Set 4 | bitkine\n",
      "Processing Record 17 of Set 4 | itarema\n",
      "Processing Record 18 of Set 4 | kutum\n",
      "Processing Record 19 of Set 4 | bahia blanca\n",
      "Processing Record 20 of Set 4 | prince rupert\n",
      "Processing Record 21 of Set 4 | esperance\n",
      "Processing Record 22 of Set 4 | ust-kishert\n",
      "Processing Record 23 of Set 4 | semey\n",
      "Processing Record 24 of Set 4 | ribeira grande\n",
      "Processing Record 25 of Set 4 | ust-kuyga\n",
      "Processing Record 26 of Set 4 | east london\n",
      "Processing Record 27 of Set 4 | tsaratanana\n",
      "Processing Record 28 of Set 4 | mitsamiouli\n",
      "Processing Record 29 of Set 4 | tabas\n",
      "Processing Record 30 of Set 4 | jabiru\n",
      "City \u001b[1mnot \u001b[0mfound. Skipping...\n",
      "Processing Record 31 of Set 4 | srednekolymsk\n",
      "Processing Record 32 of Set 4 | birin\n",
      "Processing Record 33 of Set 4 | auki\n",
      "Processing Record 34 of Set 4 | los planes\n",
      "Processing Record 35 of Set 4 | tsihombe\n",
      "City \u001b[1mnot \u001b[0mfound. Skipping...\n"
     ]
    },
    {
     "name": "stdout",
     "output_type": "stream",
     "text": [
      "Processing Record 36 of Set 4 | nagua\n",
      "Processing Record 37 of Set 4 | saint anthony\n",
      "Processing Record 38 of Set 4 | provideniya\n",
      "Processing Record 39 of Set 4 | margate\n",
      "Processing Record 40 of Set 4 | catuday\n",
      "Processing Record 41 of Set 4 | talas\n",
      "Processing Record 42 of Set 4 | okhotsk\n",
      "Processing Record 43 of Set 4 | manaure\n",
      "Processing Record 44 of Set 4 | chokurdakh\n",
      "Processing Record 45 of Set 4 | melioratorov\n",
      "Processing Record 46 of Set 4 | verkhnevilyuysk\n",
      "Processing Record 47 of Set 4 | luorong\n",
      "Processing Record 48 of Set 4 | itupiranga\n",
      "Processing Record 49 of Set 4 | sao joao da barra\n",
      "Processing Record 50 of Set 4 | alofi\n",
      "Processing Record 1 of Set 5 | poum\n",
      "Processing Record 2 of Set 5 | norman wells\n",
      "Processing Record 3 of Set 5 | taolanaro\n",
      "City \u001b[1mnot \u001b[0mfound. Skipping...\n",
      "Processing Record 4 of Set 5 | veydelevka\n",
      "Processing Record 5 of Set 5 | marzuq\n",
      "Processing Record 6 of Set 5 | istok\n",
      "Processing Record 7 of Set 5 | katsuura\n",
      "Processing Record 8 of Set 5 | jalu\n",
      "Processing Record 9 of Set 5 | le port\n",
      "Processing Record 10 of Set 5 | bafq\n",
      "Processing Record 11 of Set 5 | hay river\n",
      "Processing Record 12 of Set 5 | chara\n",
      "Processing Record 13 of Set 5 | georgetown\n",
      "Processing Record 14 of Set 5 | jizan\n",
      "Processing Record 15 of Set 5 | nuqui\n",
      "Processing Record 16 of Set 5 | sao filipe\n",
      "Processing Record 17 of Set 5 | bailen\n",
      "Processing Record 18 of Set 5 | vangaindrano\n",
      "Processing Record 19 of Set 5 | gedo\n",
      "Processing Record 20 of Set 5 | kendallville\n",
      "Processing Record 21 of Set 5 | mango\n",
      "Processing Record 22 of Set 5 | alta floresta\n",
      "Processing Record 23 of Set 5 | calderitas\n",
      "Processing Record 24 of Set 5 | sayyan\n",
      "Processing Record 25 of Set 5 | saint-francois\n",
      "Processing Record 26 of Set 5 | lavumisa\n",
      "Processing Record 27 of Set 5 | severnoye\n",
      "Processing Record 28 of Set 5 | port lincoln\n",
      "Processing Record 29 of Set 5 | vostok\n",
      "Processing Record 30 of Set 5 | cabedelo\n",
      "Processing Record 31 of Set 5 | lavrentiya\n",
      "Processing Record 32 of Set 5 | saint george\n",
      "Processing Record 33 of Set 5 | nabire\n",
      "Processing Record 34 of Set 5 | praia da vitoria\n",
      "Processing Record 35 of Set 5 | san rafael del sur\n",
      "Processing Record 36 of Set 5 | san patricio\n",
      "Processing Record 37 of Set 5 | port macquarie\n",
      "Processing Record 38 of Set 5 | vernon\n",
      "Processing Record 39 of Set 5 | kabinda\n",
      "Processing Record 40 of Set 5 | leningradskiy\n",
      "Processing Record 41 of Set 5 | kokoda\n",
      "Processing Record 42 of Set 5 | ambon\n",
      "Processing Record 43 of Set 5 | vardo\n",
      "Processing Record 44 of Set 5 | lagoa\n",
      "Processing Record 45 of Set 5 | sitka\n",
      "Processing Record 46 of Set 5 | dawson creek\n",
      "Processing Record 47 of Set 5 | san roque\n",
      "Processing Record 48 of Set 5 | belushya guba\n",
      "City \u001b[1mnot \u001b[0mfound. Skipping...\n",
      "Processing Record 49 of Set 5 | bilibino\n",
      "Processing Record 50 of Set 5 | ijaki\n",
      "City \u001b[1mnot \u001b[0mfound. Skipping...\n",
      "Processing Record 1 of Set 6 | williams lake\n",
      "Processing Record 2 of Set 6 | grajau\n",
      "Processing Record 3 of Set 6 | pevek\n",
      "Processing Record 4 of Set 6 | hami\n",
      "Processing Record 5 of Set 6 | samusu\n",
      "City \u001b[1mnot \u001b[0mfound. Skipping...\n",
      "Processing Record 6 of Set 6 | hanna\n",
      "Processing Record 7 of Set 6 | harper\n",
      "Processing Record 8 of Set 6 | warqla\n",
      "City \u001b[1mnot \u001b[0mfound. Skipping...\n",
      "Processing Record 9 of Set 6 | cockburn town\n",
      "Processing Record 10 of Set 6 | grand river south east\n",
      "City \u001b[1mnot \u001b[0mfound. Skipping...\n",
      "Processing Record 11 of Set 6 | castro\n",
      "Processing Record 12 of Set 6 | vanavara\n",
      "Processing Record 13 of Set 6 | kinablangan\n",
      "Processing Record 14 of Set 6 | bayanday\n",
      "Processing Record 15 of Set 6 | fairbanks\n",
      "Processing Record 16 of Set 6 | amahai\n",
      "Processing Record 17 of Set 6 | cedar city\n",
      "Processing Record 18 of Set 6 | athabasca\n",
      "Processing Record 19 of Set 6 | biloela\n",
      "Processing Record 20 of Set 6 | avera\n",
      "Processing Record 21 of Set 6 | san miguel\n",
      "Processing Record 22 of Set 6 | dudinka\n",
      "Processing Record 23 of Set 6 | pozo colorado\n",
      "Processing Record 24 of Set 6 | vila franca do campo\n",
      "Processing Record 25 of Set 6 | lakes entrance\n",
      "Processing Record 26 of Set 6 | canaries\n",
      "Processing Record 27 of Set 6 | kahului\n",
      "Processing Record 28 of Set 6 | kropotkin\n",
      "Processing Record 29 of Set 6 | mezen\n",
      "Processing Record 30 of Set 6 | marawi\n",
      "Processing Record 31 of Set 6 | ayorou\n",
      "Processing Record 32 of Set 6 | ambilobe\n",
      "Processing Record 33 of Set 6 | san juan\n",
      "Processing Record 34 of Set 6 | bargal\n",
      "City \u001b[1mnot \u001b[0mfound. Skipping...\n",
      "Processing Record 35 of Set 6 | pereslavl-zalesskiy\n",
      "Processing Record 36 of Set 6 | pisco\n",
      "Processing Record 37 of Set 6 | hargeysa\n",
      "Processing Record 38 of Set 6 | namli\n",
      "Processing Record 39 of Set 6 | isangel\n",
      "Processing Record 40 of Set 6 | dingle\n",
      "Processing Record 41 of Set 6 | obo\n",
      "Processing Record 42 of Set 6 | gornopravdinsk\n",
      "Processing Record 43 of Set 6 | turukhansk\n",
      "Processing Record 44 of Set 6 | lumeje\n",
      "Processing Record 45 of Set 6 | san andres\n",
      "Processing Record 46 of Set 6 | rumonge\n",
      "Processing Record 47 of Set 6 | mayumba\n",
      "Processing Record 48 of Set 6 | kabalo\n",
      "Processing Record 49 of Set 6 | fengrun\n",
      "Processing Record 50 of Set 6 | swan river\n",
      "Processing Record 1 of Set 7 | kattivakkam\n",
      "Processing Record 2 of Set 7 | port blair\n",
      "Processing Record 3 of Set 7 | batemans bay\n",
      "Processing Record 4 of Set 7 | slobodskoy\n",
      "Processing Record 5 of Set 7 | talakan\n",
      "Processing Record 6 of Set 7 | clyde river\n",
      "Processing Record 7 of Set 7 | tungkang\n",
      "City \u001b[1mnot \u001b[0mfound. Skipping...\n",
      "Processing Record 8 of Set 7 | berlevag\n",
      "Processing Record 9 of Set 7 | antigonish\n",
      "Processing Record 10 of Set 7 | nouadhibou\n",
      "Processing Record 11 of Set 7 | guajara\n",
      "Processing Record 12 of Set 7 | tongren\n",
      "Processing Record 13 of Set 7 | lebu\n",
      "Processing Record 14 of Set 7 | mrirt\n",
      "City \u001b[1mnot \u001b[0mfound. Skipping...\n",
      "Processing Record 15 of Set 7 | yala\n",
      "Processing Record 16 of Set 7 | belomorsk\n",
      "Processing Record 17 of Set 7 | ugoofaaru\n",
      "Processing Record 18 of Set 7 | labytnangi\n",
      "Processing Record 19 of Set 7 | verkhoyansk\n",
      "Processing Record 20 of Set 7 | atka\n",
      "City \u001b[1mnot \u001b[0mfound. Skipping...\n",
      "Processing Record 21 of Set 7 | paracuru\n",
      "Processing Record 22 of Set 7 | osoyoos\n",
      "Processing Record 23 of Set 7 | richards bay\n",
      "Processing Record 24 of Set 7 | jacmel\n",
      "Processing Record 25 of Set 7 | sorvag\n",
      "City \u001b[1mnot \u001b[0mfound. Skipping...\n",
      "Processing Record 26 of Set 7 | bury saint edmunds\n",
      "City \u001b[1mnot \u001b[0mfound. Skipping...\n",
      "Processing Record 27 of Set 7 | nome\n",
      "Processing Record 28 of Set 7 | atasu\n",
      "Processing Record 29 of Set 7 | pabna\n",
      "Processing Record 30 of Set 7 | portland\n",
      "Processing Record 31 of Set 7 | flinders\n",
      "Processing Record 32 of Set 7 | tripoli\n",
      "Processing Record 33 of Set 7 | zurrieq\n",
      "Processing Record 34 of Set 7 | gillette\n",
      "Processing Record 35 of Set 7 | mandalgovi\n",
      "Processing Record 36 of Set 7 | mukhtolovo\n",
      "Processing Record 37 of Set 7 | nizhneyansk\n",
      "City \u001b[1mnot \u001b[0mfound. Skipping...\n",
      "Processing Record 38 of Set 7 | vila velha\n",
      "Processing Record 39 of Set 7 | liverpool\n",
      "Processing Record 40 of Set 7 | zhaotong\n",
      "Processing Record 41 of Set 7 | ejura\n",
      "Processing Record 42 of Set 7 | rozkishne\n",
      "Processing Record 43 of Set 7 | chulman\n",
      "Processing Record 44 of Set 7 | scottsbluff\n",
      "Processing Record 45 of Set 7 | along\n",
      "Processing Record 46 of Set 7 | boa vista\n",
      "Processing Record 47 of Set 7 | bambous virieux\n",
      "Processing Record 48 of Set 7 | kargasok\n",
      "Processing Record 49 of Set 7 | grants pass\n",
      "Processing Record 50 of Set 7 | afrikanda\n",
      "Processing Record 1 of Set 8 | coahuayana\n",
      "Processing Record 2 of Set 8 | daru\n",
      "Processing Record 3 of Set 8 | blonie\n",
      "Processing Record 4 of Set 8 | santa cruz\n",
      "Processing Record 5 of Set 8 | nepomuceno\n",
      "Processing Record 6 of Set 8 | inirida\n",
      "Processing Record 7 of Set 8 | nambucca heads\n",
      "Processing Record 8 of Set 8 | longyearbyen\n",
      "Processing Record 9 of Set 8 | shache\n",
      "Processing Record 10 of Set 8 | tezu\n",
      "Processing Record 11 of Set 8 | roald\n",
      "Processing Record 12 of Set 8 | kumbhraj\n",
      "Processing Record 13 of Set 8 | skibbereen\n",
      "Processing Record 14 of Set 8 | shakawe\n",
      "Processing Record 15 of Set 8 | kalmunai\n",
      "Processing Record 16 of Set 8 | cidreira\n",
      "Processing Record 17 of Set 8 | namibe\n",
      "Processing Record 18 of Set 8 | abu kamal\n",
      "Processing Record 19 of Set 8 | hasaki\n",
      "Processing Record 20 of Set 8 | ferkessedougou\n",
      "Processing Record 21 of Set 8 | sladkovo\n",
      "Processing Record 22 of Set 8 | borovoy\n",
      "Processing Record 23 of Set 8 | yulara\n"
     ]
    },
    {
     "name": "stdout",
     "output_type": "stream",
     "text": [
      "Processing Record 24 of Set 8 | saleaula\n",
      "City \u001b[1mnot \u001b[0mfound. Skipping...\n",
      "Processing Record 25 of Set 8 | san quintin\n",
      "Processing Record 26 of Set 8 | blagoveshchensk\n",
      "Processing Record 27 of Set 8 | raga\n",
      "Processing Record 28 of Set 8 | saldana\n",
      "Processing Record 29 of Set 8 | grindavik\n",
      "Processing Record 30 of Set 8 | huinan\n",
      "Processing Record 31 of Set 8 | owando\n",
      "Processing Record 32 of Set 8 | mandapam\n",
      "Processing Record 33 of Set 8 | tautira\n",
      "Processing Record 34 of Set 8 | burica\n",
      "City \u001b[1mnot \u001b[0mfound. Skipping...\n",
      "Processing Record 35 of Set 8 | hibbing\n",
      "Processing Record 36 of Set 8 | victoria\n",
      "Processing Record 37 of Set 8 | cheney\n",
      "Processing Record 38 of Set 8 | mundo nuevo\n",
      "Processing Record 39 of Set 8 | robertsport\n",
      "Processing Record 40 of Set 8 | saldanha\n",
      "Processing Record 41 of Set 8 | ahuimanu\n",
      "Processing Record 42 of Set 8 | puri\n",
      "Processing Record 43 of Set 8 | bara\n",
      "Processing Record 44 of Set 8 | mapimi\n",
      "Processing Record 45 of Set 8 | songjianghe\n",
      "Processing Record 46 of Set 8 | ostersund\n",
      "Processing Record 47 of Set 8 | coihaique\n",
      "Processing Record 48 of Set 8 | kaeo\n",
      "Processing Record 49 of Set 8 | los llanos de aridane\n",
      "Processing Record 50 of Set 8 | galle\n",
      "Processing Record 1 of Set 9 | birjand\n",
      "Processing Record 2 of Set 9 | karaul\n",
      "City \u001b[1mnot \u001b[0mfound. Skipping...\n",
      "Processing Record 3 of Set 9 | ende\n",
      "Processing Record 4 of Set 9 | kuche\n",
      "City \u001b[1mnot \u001b[0mfound. Skipping...\n",
      "Processing Record 5 of Set 9 | buluang\n",
      "Processing Record 6 of Set 9 | oktyabrskiy\n",
      "Processing Record 7 of Set 9 | wolgast\n",
      "Processing Record 8 of Set 9 | merauke\n",
      "Processing Record 9 of Set 9 | yinchuan\n",
      "Processing Record 10 of Set 9 | najran\n",
      "Processing Record 11 of Set 9 | beloha\n",
      "Processing Record 12 of Set 9 | mana\n",
      "Processing Record 13 of Set 9 | matagami\n",
      "Processing Record 14 of Set 9 | lunenburg\n",
      "Processing Record 15 of Set 9 | kultuk\n",
      "Processing Record 16 of Set 9 | we\n",
      "City \u001b[1mnot \u001b[0mfound. Skipping...\n",
      "Processing Record 17 of Set 9 | bodden town\n",
      "Processing Record 18 of Set 9 | pio xii\n",
      "Processing Record 19 of Set 9 | sibu\n",
      "Processing Record 20 of Set 9 | alotau\n",
      "City \u001b[1mnot \u001b[0mfound. Skipping...\n",
      "Processing Record 21 of Set 9 | palmer\n",
      "Processing Record 22 of Set 9 | hit\n",
      "Processing Record 23 of Set 9 | astara\n",
      "Processing Record 24 of Set 9 | luba\n",
      "Processing Record 25 of Set 9 | soubre\n",
      "Processing Record 26 of Set 9 | ipixuna\n",
      "Processing Record 27 of Set 9 | phan rang\n",
      "City \u001b[1mnot \u001b[0mfound. Skipping...\n",
      "Processing Record 28 of Set 9 | pangnirtung\n",
      "Processing Record 29 of Set 9 | urucara\n",
      "Processing Record 30 of Set 9 | oyama\n",
      "Processing Record 31 of Set 9 | fort abbas\n",
      "Processing Record 32 of Set 9 | albi\n",
      "Processing Record 33 of Set 9 | ulladulla\n",
      "Processing Record 34 of Set 9 | kerki\n",
      "City \u001b[1mnot \u001b[0mfound. Skipping...\n",
      "Processing Record 35 of Set 9 | namatanai\n",
      "Processing Record 36 of Set 9 | hofn\n",
      "Processing Record 37 of Set 9 | pochutla\n",
      "Processing Record 38 of Set 9 | csorvas\n",
      "Processing Record 39 of Set 9 | betioky\n",
      "Processing Record 40 of Set 9 | plettenberg bay\n",
      "Processing Record 41 of Set 9 | santa barbara\n",
      "Processing Record 42 of Set 9 | la ronge\n",
      "Processing Record 43 of Set 9 | ginda\n",
      "Processing Record 44 of Set 9 | bonavista\n",
      "Processing Record 45 of Set 9 | ostrovnoy\n",
      "Processing Record 46 of Set 9 | phek\n",
      "Processing Record 47 of Set 9 | karpathos\n",
      "Processing Record 48 of Set 9 | altay\n",
      "Processing Record 49 of Set 9 | jinchang\n",
      "Processing Record 50 of Set 9 | duz\n",
      "City \u001b[1mnot \u001b[0mfound. Skipping...\n",
      "Processing Record 1 of Set 10 | luderitz\n",
      "Processing Record 2 of Set 10 | quesnel\n",
      "Processing Record 3 of Set 10 | oranjestad\n",
      "Processing Record 4 of Set 10 | verkh-usugli\n",
      "Processing Record 5 of Set 10 | kushima\n",
      "Processing Record 6 of Set 10 | narsaq\n",
      "Processing Record 7 of Set 10 | inderborskiy\n",
      "City \u001b[1mnot \u001b[0mfound. Skipping...\n",
      "Processing Record 8 of Set 10 | umm kaddadah\n",
      "Processing Record 9 of Set 10 | unye\n",
      "City \u001b[1mnot \u001b[0mfound. Skipping...\n",
      "Processing Record 10 of Set 10 | launceston\n",
      "Processing Record 11 of Set 10 | abnub\n",
      "Processing Record 12 of Set 10 | lidorikion\n",
      "City \u001b[1mnot \u001b[0mfound. Skipping...\n",
      "Processing Record 13 of Set 10 | praia\n",
      "Processing Record 14 of Set 10 | cumaribo\n",
      "City \u001b[1mnot \u001b[0mfound. Skipping...\n",
      "Processing Record 15 of Set 10 | kabanjahe\n",
      "Processing Record 16 of Set 10 | constitucion\n",
      "Processing Record 17 of Set 10 | marianske lazne\n",
      "Processing Record 18 of Set 10 | ahipara\n",
      "Processing Record 19 of Set 10 | payakumbuh\n",
      "Processing Record 20 of Set 10 | salinopolis\n",
      "Processing Record 21 of Set 10 | krasnystaw\n",
      "Processing Record 22 of Set 10 | rudnya\n",
      "Processing Record 23 of Set 10 | utiroa\n",
      "City \u001b[1mnot \u001b[0mfound. Skipping...\n",
      "Processing Record 24 of Set 10 | sibi\n",
      "Processing Record 25 of Set 10 | rawannawi\n",
      "City \u001b[1mnot \u001b[0mfound. Skipping...\n",
      "Processing Record 26 of Set 10 | burkhala\n",
      "City \u001b[1mnot \u001b[0mfound. Skipping...\n",
      "Processing Record 27 of Set 10 | pires do rio\n",
      "Processing Record 28 of Set 10 | keningau\n",
      "Processing Record 29 of Set 10 | milkovo\n",
      "Processing Record 30 of Set 10 | la sarre\n",
      "Processing Record 31 of Set 10 | tongsa\n",
      "City \u001b[1mnot \u001b[0mfound. Skipping...\n",
      "Processing Record 32 of Set 10 | chifeng\n",
      "Processing Record 33 of Set 10 | freeport\n",
      "Processing Record 34 of Set 10 | bafra\n",
      "Processing Record 35 of Set 10 | maarianhamina\n",
      "Processing Record 36 of Set 10 | seymchan\n",
      "Processing Record 37 of Set 10 | arman\n",
      "Processing Record 38 of Set 10 | ziro\n",
      "Processing Record 39 of Set 10 | sorong\n",
      "Processing Record 40 of Set 10 | khorramshahr\n",
      "Processing Record 41 of Set 10 | miracema do tocantins\n",
      "Processing Record 42 of Set 10 | kimbe\n",
      "Processing Record 43 of Set 10 | farah\n",
      "Processing Record 44 of Set 10 | lasa\n",
      "Processing Record 45 of Set 10 | hualmay\n",
      "Processing Record 46 of Set 10 | astana\n",
      "Processing Record 47 of Set 10 | kishi\n",
      "Processing Record 48 of Set 10 | huangpu\n",
      "Processing Record 49 of Set 10 | winnemucca\n",
      "Processing Record 50 of Set 10 | qaqortoq\n",
      "Processing Record 1 of Set 11 | lodwar\n",
      "Processing Record 2 of Set 11 | iquique\n",
      "Processing Record 3 of Set 11 | yeniseysk\n",
      "Processing Record 4 of Set 11 | kawalu\n",
      "Processing Record 5 of Set 11 | jiroft\n",
      "City \u001b[1mnot \u001b[0mfound. Skipping...\n",
      "Processing Record 6 of Set 11 | iralaya\n",
      "Processing Record 7 of Set 11 | kincardine\n",
      "Processing Record 8 of Set 11 | mareeba\n",
      "Processing Record 9 of Set 11 | badou\n",
      "Processing Record 10 of Set 11 | salalah\n",
      "Processing Record 11 of Set 11 | adrar\n",
      "Processing Record 12 of Set 11 | solnechnyy\n",
      "Processing Record 13 of Set 11 | preobrazheniye\n",
      "Processing Record 14 of Set 11 | kasongo-lunda\n",
      "Processing Record 15 of Set 11 | sao jose da coroa grande\n",
      "Processing Record 16 of Set 11 | nelson bay\n",
      "Processing Record 17 of Set 11 | plouzane\n",
      "Processing Record 18 of Set 11 | groton\n",
      "Processing Record 19 of Set 11 | ternate\n",
      "Processing Record 20 of Set 11 | zhanakorgan\n",
      "Processing Record 21 of Set 11 | grand gaube\n",
      "Processing Record 22 of Set 11 | znamensk\n",
      "Processing Record 23 of Set 11 | linxia\n",
      "Processing Record 24 of Set 11 | mangrol\n",
      "Processing Record 25 of Set 11 | guaymas\n",
      "Processing Record 26 of Set 11 | ocampo\n",
      "Processing Record 27 of Set 11 | tuatapere\n",
      "Processing Record 28 of Set 11 | aksarka\n",
      "Processing Record 29 of Set 11 | champerico\n",
      "Processing Record 30 of Set 11 | laguna\n",
      "Processing Record 31 of Set 11 | srandakan\n",
      "Processing Record 32 of Set 11 | fos-sur-mer\n",
      "Processing Record 33 of Set 11 | barda\n",
      "Processing Record 34 of Set 11 | krasnoborsk\n",
      "Processing Record 35 of Set 11 | lipin bor\n",
      "Processing Record 36 of Set 11 | herat\n",
      "Processing Record 37 of Set 11 | santa fe\n",
      "Processing Record 38 of Set 11 | port hardy\n",
      "Processing Record 39 of Set 11 | balsas\n",
      "Processing Record 40 of Set 11 | bolshoy tsaryn\n",
      "City \u001b[1mnot \u001b[0mfound. Skipping...\n",
      "Processing Record 41 of Set 11 | roebourne\n",
      "Processing Record 42 of Set 11 | andenes\n",
      "Processing Record 43 of Set 11 | gediz\n",
      "Processing Record 44 of Set 11 | banda aceh\n",
      "Processing Record 45 of Set 11 | pirganj\n",
      "Processing Record 46 of Set 11 | lamar\n",
      "Processing Record 47 of Set 11 | san rafael\n",
      "Processing Record 48 of Set 11 | carmo\n",
      "Processing Record 49 of Set 11 | leshan\n",
      "Processing Record 50 of Set 11 | kyra\n",
      "Processing Record 1 of Set 12 | buraydah\n",
      "Processing Record 2 of Set 12 | brae\n",
      "Processing Record 3 of Set 12 | valparaiso\n",
      "Processing Record 4 of Set 12 | esmeraldas\n",
      "Processing Record 5 of Set 12 | lata\n",
      "Processing Record 6 of Set 12 | belize\n"
     ]
    },
    {
     "name": "stdout",
     "output_type": "stream",
     "text": [
      "Processing Record 7 of Set 12 | urosevac\n",
      "City \u001b[1mnot \u001b[0mfound. Skipping...\n",
      "Processing Record 8 of Set 12 | waingapu\n",
      "Processing Record 9 of Set 12 | saint-pierre\n",
      "Processing Record 10 of Set 12 | beeville\n",
      "Processing Record 11 of Set 12 | mokhsogollokh\n",
      "Processing Record 12 of Set 12 | geresk\n",
      "City \u001b[1mnot \u001b[0mfound. Skipping...\n",
      "Processing Record 13 of Set 12 | rio gallegos\n",
      "Processing Record 14 of Set 12 | bathsheba\n",
      "Processing Record 15 of Set 12 | san pedro\n",
      "Processing Record 16 of Set 12 | sisimiut\n",
      "Processing Record 17 of Set 12 | sao borja\n",
      "Processing Record 18 of Set 12 | zhitikara\n",
      "City \u001b[1mnot \u001b[0mfound. Skipping...\n",
      "Processing Record 19 of Set 12 | mehamn\n",
      "Processing Record 20 of Set 12 | palabuhanratu\n",
      "City \u001b[1mnot \u001b[0mfound. Skipping...\n",
      "Processing Record 21 of Set 12 | kambove\n",
      "Processing Record 22 of Set 12 | kidal\n",
      "Processing Record 23 of Set 12 | alexandria\n",
      "Processing Record 24 of Set 12 | whitianga\n",
      "Processing Record 25 of Set 12 | ratnagiri\n",
      "Processing Record 26 of Set 12 | moranbah\n",
      "Processing Record 27 of Set 12 | kajaani\n",
      "Processing Record 28 of Set 12 | vila\n",
      "Processing Record 29 of Set 12 | playa del carmen\n",
      "Processing Record 30 of Set 12 | moyo\n",
      "Processing Record 31 of Set 12 | valdosta\n",
      "Processing Record 32 of Set 12 | tucurui\n",
      "Processing Record 33 of Set 12 | casalgrande\n",
      "Processing Record 34 of Set 12 | heidelberg\n",
      "Processing Record 35 of Set 12 | strezhevoy\n",
      "Processing Record 36 of Set 12 | hanzhong\n",
      "Processing Record 37 of Set 12 | xianyang\n",
      "Processing Record 38 of Set 12 | fowa\n",
      "Processing Record 39 of Set 12 | port-cartier\n",
      "Processing Record 40 of Set 12 | bairiki\n",
      "Processing Record 41 of Set 12 | belmonte\n",
      "Processing Record 42 of Set 12 | irbil\n",
      "Processing Record 43 of Set 12 | malwan\n",
      "City \u001b[1mnot \u001b[0mfound. Skipping...\n",
      "Processing Record 44 of Set 12 | eydhafushi\n",
      "Processing Record 45 of Set 12 | georgiyevka\n",
      "Processing Record 46 of Set 12 | ler\n",
      "------------------------\n",
      "Data Retrieval Complete\n",
      "------------------------\n"
     ]
    }
   ],
   "source": [
    "url = \"http://api.openweathermap.org/data/2.5/weather?\"\n",
    "units = \"imperial\"\n",
    "\n",
    "city_list = []\n",
    "index_counter = 0\n",
    "m = 1 \n",
    "set_number = 1\n",
    "\n",
    "print(\"Beginning Data Retrieval\")\n",
    "print(\"--------------------------\")\n",
    "#mention cities one by one by using enumerate.\n",
    "#can run data for 50 cities at a time so that API Calls do not time out. \n",
    "for n, city in enumerate(cities):\n",
    "    \n",
    "    #print(\"n =\", n)\n",
    "    #print(\"m =\", m)\n",
    "    if (n % 50 == 0 and n >= 50):\n",
    "        set_number=set_number+1\n",
    "        index_counter = 0\n",
    "    # Get weather data\n",
    "    query_url = f\"{url}appid={weather_api_key}&q={city}&units={units}\"\n",
    "    weather_response = requests.get(query_url)\n",
    "    time.sleep(1)\n",
    "    \n",
    "    index_counter = index_counter + 1\n",
    "    print(f\"Processing Record {index_counter} of Set {set_number} | {city}\")\n",
    "\n",
    "    try:\n",
    "        weather_json = weather_response.json()\n",
    "        temperature = weather_json[\"main\"][\"temp\"]\n",
    "        latitude = weather_json[\"coord\"][\"lat\"]\n",
    "        longitude = weather_json[\"coord\"][\"lon\"]\n",
    "        cloudiness = weather_json[\"clouds\"][\"all\"]\n",
    "        country = weather_json[\"sys\"][\"country\"]\n",
    "        date = weather_json[\"dt\"]\n",
    "        humidity = weather_json[\"main\"][\"humidity\"]\n",
    "        max_temp = weather_json[\"main\"][\"temp_max\"]\n",
    "        wind_speed = weather_json[\"wind\"][\"speed\"]\n",
    "        city_name = weather_json[\"name\"]\n",
    "        city_list.append({\"Temperature\": temperature,\n",
    "                          \"Latitude\": latitude,\n",
    "                          \"Longitude\": longitude,\n",
    "                          \"Cloudiness\": cloudiness,\n",
    "                          \"Country\": country,\n",
    "                          \"Date\": date,\n",
    "                          \"Humidity\": humidity,\n",
    "                          \"Maximum Temperature\": max_temp,\n",
    "                          \"Wind Speed\": wind_speed,\n",
    "                          \"City Name\": city_name})\n",
    "\n",
    "\n",
    "      \n",
    "    except: \n",
    "        print(\"City \" + color.BOLD + \"not \" + color.END + \"found. Skipping...\")\n",
    "        pass\n",
    "    \n",
    "print(\"------------------------\")\n",
    "print(\"Data Retrieval Complete\")\n",
    "print(\"------------------------\")\n"
   ]
  },
  {
   "cell_type": "markdown",
   "metadata": {},
   "source": [
    "### Convert Raw Data to DataFrame\n",
    "* Export the city data into a .csv.\n",
    "* Display the DataFrame"
   ]
  },
  {
   "cell_type": "code",
   "execution_count": 4,
   "metadata": {},
   "outputs": [
    {
     "data": {
      "text/html": [
       "<div>\n",
       "<style scoped>\n",
       "    .dataframe tbody tr th:only-of-type {\n",
       "        vertical-align: middle;\n",
       "    }\n",
       "\n",
       "    .dataframe tbody tr th {\n",
       "        vertical-align: top;\n",
       "    }\n",
       "\n",
       "    .dataframe thead th {\n",
       "        text-align: right;\n",
       "    }\n",
       "</style>\n",
       "<table border=\"1\" class=\"dataframe\">\n",
       "  <thead>\n",
       "    <tr style=\"text-align: right;\">\n",
       "      <th></th>\n",
       "      <th>Temperature</th>\n",
       "      <th>Latitude</th>\n",
       "      <th>Longitude</th>\n",
       "      <th>Cloudiness</th>\n",
       "      <th>Country</th>\n",
       "      <th>Date</th>\n",
       "      <th>Humidity</th>\n",
       "      <th>Maximum Temperature</th>\n",
       "      <th>Wind Speed</th>\n",
       "      <th>City Name</th>\n",
       "    </tr>\n",
       "  </thead>\n",
       "  <tbody>\n",
       "    <tr>\n",
       "      <td>0</td>\n",
       "      <td>68.00</td>\n",
       "      <td>-33.59</td>\n",
       "      <td>26.89</td>\n",
       "      <td>92</td>\n",
       "      <td>ZA</td>\n",
       "      <td>1584216759</td>\n",
       "      <td>88</td>\n",
       "      <td>68.00</td>\n",
       "      <td>1.99</td>\n",
       "      <td>Port Alfred</td>\n",
       "    </tr>\n",
       "    <tr>\n",
       "      <td>1</td>\n",
       "      <td>84.20</td>\n",
       "      <td>-21.21</td>\n",
       "      <td>-159.78</td>\n",
       "      <td>37</td>\n",
       "      <td>CK</td>\n",
       "      <td>1584216895</td>\n",
       "      <td>74</td>\n",
       "      <td>84.20</td>\n",
       "      <td>6.93</td>\n",
       "      <td>Avarua</td>\n",
       "    </tr>\n",
       "    <tr>\n",
       "      <td>2</td>\n",
       "      <td>57.20</td>\n",
       "      <td>-54.80</td>\n",
       "      <td>-68.30</td>\n",
       "      <td>20</td>\n",
       "      <td>AR</td>\n",
       "      <td>1584216864</td>\n",
       "      <td>50</td>\n",
       "      <td>57.20</td>\n",
       "      <td>9.17</td>\n",
       "      <td>Ushuaia</td>\n",
       "    </tr>\n",
       "    <tr>\n",
       "      <td>3</td>\n",
       "      <td>72.09</td>\n",
       "      <td>-28.77</td>\n",
       "      <td>114.60</td>\n",
       "      <td>40</td>\n",
       "      <td>AU</td>\n",
       "      <td>1584216370</td>\n",
       "      <td>88</td>\n",
       "      <td>73.40</td>\n",
       "      <td>10.29</td>\n",
       "      <td>Geraldton</td>\n",
       "    </tr>\n",
       "    <tr>\n",
       "      <td>4</td>\n",
       "      <td>31.95</td>\n",
       "      <td>65.70</td>\n",
       "      <td>82.47</td>\n",
       "      <td>100</td>\n",
       "      <td>RU</td>\n",
       "      <td>1584216898</td>\n",
       "      <td>97</td>\n",
       "      <td>31.95</td>\n",
       "      <td>14.45</td>\n",
       "      <td>Krasnosel'kup</td>\n",
       "    </tr>\n",
       "  </tbody>\n",
       "</table>\n",
       "</div>"
      ],
      "text/plain": [
       "   Temperature  Latitude  Longitude  Cloudiness Country        Date  Humidity  \\\n",
       "0        68.00    -33.59      26.89          92      ZA  1584216759        88   \n",
       "1        84.20    -21.21    -159.78          37      CK  1584216895        74   \n",
       "2        57.20    -54.80     -68.30          20      AR  1584216864        50   \n",
       "3        72.09    -28.77     114.60          40      AU  1584216370        88   \n",
       "4        31.95     65.70      82.47         100      RU  1584216898        97   \n",
       "\n",
       "   Maximum Temperature  Wind Speed      City Name  \n",
       "0                68.00        1.99    Port Alfred  \n",
       "1                84.20        6.93         Avarua  \n",
       "2                57.20        9.17        Ushuaia  \n",
       "3                73.40       10.29      Geraldton  \n",
       "4                31.95       14.45  Krasnosel'kup  "
      ]
     },
     "execution_count": 4,
     "metadata": {},
     "output_type": "execute_result"
    }
   ],
   "source": [
    "cities_data = pd.DataFrame(city_list)\n",
    "#cities_data.to_csv = ('cities.csv', encoding = \"utf-8\", index_label = \"City_ID\")\n",
    "cities_data.head()"
   ]
  },
  {
   "cell_type": "code",
   "execution_count": 5,
   "metadata": {},
   "outputs": [],
   "source": [
    "cities_data.to_csv('cities.csv')"
   ]
  },
  {
   "cell_type": "markdown",
   "metadata": {},
   "source": [
    "### Plotting the Data\n",
    "* Use proper labeling of the plots using plot titles (including date of analysis) and axes labels.\n",
    "* Save the plotted figures as .pngs."
   ]
  },
  {
   "cell_type": "code",
   "execution_count": 6,
   "metadata": {},
   "outputs": [],
   "source": [
    "latitude = cities_data[\"Latitude\"]\n",
    "temperature = cities_data[\"Temperature\"]\n",
    "humidity = cities_data[\"Humidity\"]\n",
    "wind_speed = cities_data[\"Wind Speed\"]\n",
    "cloudiness = cities_data[\"Cloudiness\"]"
   ]
  },
  {
   "cell_type": "markdown",
   "metadata": {},
   "source": [
    "#### Latitude vs. Temperature Plot"
   ]
  },
  {
   "cell_type": "code",
   "execution_count": 7,
   "metadata": {
    "scrolled": true
   },
   "outputs": [
    {
     "data": {
      "image/png": "[encoded data removed]",
      "text/plain": [
       "<Figure size 432x288 with 1 Axes>"
      ]
     },
     "metadata": {
      "needs_background": "light"
     },
     "output_type": "display_data"
    }
   ],
   "source": [
    "plt.scatter(latitude, temperature, linewidths = 1)\n",
    "plt.grid(True)\n",
    "plt.title(\"Latitude Vs. Temperature\")\n",
    "plt.ylabel(\"Temperaute\")\n",
    "plt.xlabel(\"Latitude\")\n",
    "plt.show()"
   ]
  },
  {
   "cell_type": "markdown",
   "metadata": {},
   "source": [
    "The code is grabbing data for latitude and temperature from over 500 cities. The code is analyzing the relationship between latitude and temperature of the cities. There seems to be an almost but not quite proportional relationship between latitude and temperature. "
   ]
  },
  {
   "cell_type": "markdown",
   "metadata": {},
   "source": [
    "#### Latitude vs. Humidity Plot"
   ]
  },
  {
   "cell_type": "code",
   "execution_count": 8,
   "metadata": {},
   "outputs": [
    {
     "data": {
      "image/png": "[encoded data removed]",
      "text/plain": [
       "<Figure size 432x288 with 1 Axes>"
      ]
     },
     "metadata": {
      "needs_background": "light"
     },
     "output_type": "display_data"
    }
   ],
   "source": [
    "plt.scatter(latitude, humidity, linewidths = 1)\n",
    "plt.grid(True)\n",
    "plt.title(\"Latitude Vs. Humidity\")\n",
    "plt.ylabel(\"Humidity\")\n",
    "plt.xlabel(\"Latitude\")\n",
    "plt.show()"
   ]
  },
  {
   "cell_type": "markdown",
   "metadata": {},
   "source": [
    "The code is grabbing data for latitude and humidity from over 500 cities. The code is analyzing the relationship between latitude and humidity of the cities. There does not seem to be proportional relationship between latitude and humidity. "
   ]
  },
  {
   "cell_type": "markdown",
   "metadata": {},
   "source": [
    "#### Latitude vs. Cloudiness Plot"
   ]
  },
  {
   "cell_type": "code",
   "execution_count": 9,
   "metadata": {},
   "outputs": [
    {
     "data": {
      "image/png": "[encoded data removed]",
      "text/plain": [
       "<Figure size 432x288 with 1 Axes>"
      ]
     },
     "metadata": {
      "needs_background": "light"
     },
     "output_type": "display_data"
    }
   ],
   "source": [
    "plt.scatter(latitude, cloudiness, linewidths = 1)\n",
    "plt.grid(True)\n",
    "plt.title(\"Latitude Vs. Cloudiness\")\n",
    "plt.ylabel(\"Cloudiness\")\n",
    "plt.xlabel(\"Latitude\")\n",
    "plt.show()"
   ]
  },
  {
   "cell_type": "markdown",
   "metadata": {},
   "source": [
    "The code is grabbing data for latitude and cloudiness from over 500 cities. The code is analyzing the relationship between latitude and cloudiness of the cities. There does not seem to be proportional relationship between latitude and cloudiness. "
   ]
  },
  {
   "cell_type": "markdown",
   "metadata": {},
   "source": [
    "#### Latitude vs. Wind Speed Plot"
   ]
  },
  {
   "cell_type": "code",
   "execution_count": 10,
   "metadata": {},
   "outputs": [
    {
     "data": {
      "image/png": "[encoded data removed]",
      "text/plain": [
       "<Figure size 432x288 with 1 Axes>"
      ]
     },
     "metadata": {
      "needs_background": "light"
     },
     "output_type": "display_data"
    }
   ],
   "source": [
    "plt.scatter(latitude, wind_speed, linewidths = 1)\n",
    "plt.grid(True)\n",
    "plt.title(\"Latitude Vs. Wind Speed\")\n",
    "plt.ylabel(\"Wind Speed\")\n",
    "plt.xlabel(\"Latitude\")\n",
    "plt.show()"
   ]
  },
  {
   "cell_type": "markdown",
   "metadata": {},
   "source": [
    "The code is grabbing data for latitude and sind speed from over 500 cities. The code is analyzing the relationship between latitude and wind speed of the cities. There does not seem to be proportional relationship between latitude and wind speed. "
   ]
  },
  {
   "cell_type": "markdown",
   "metadata": {},
   "source": [
    "## Linear Regression"
   ]
  },
  {
   "cell_type": "code",
   "execution_count": 11,
   "metadata": {},
   "outputs": [],
   "source": [
    "# Create Northern and Southern Hemisphere DataFrames\n",
    "northern = cities_data.loc[(cities_data[\"Latitude\"] >= 0)]\n",
    "southern = cities_data.loc[(cities_data[\"Latitude\"] < 0)]\n",
    "\n",
    "latitude_north = northern[\"Latitude\"]\n",
    "latitude_south = southern[\"Latitude\"]\n",
    "temperature_north = northern[\"Maximum Temperature\"]\n",
    "temperature_south = southern[\"Maximum Temperature\"]\n",
    "humidity_north = northern[\"Humidity\"]\n",
    "humidity_south = southern[\"Humidity\"]\n",
    "wind_speed_north = northern[\"Wind Speed\"]\n",
    "wind_speed_south = southern[\"Wind Speed\"]\n",
    "cloudiness_north = northern[\"Cloudiness\"]\n",
    "cloudiness_south = southern[\"Cloudiness\"]"
   ]
  },
  {
   "cell_type": "markdown",
   "metadata": {},
   "source": [
    "Northern Hemisphere - Max Temp vs. Latitude Linear Regression"
   ]
  },
  {
   "cell_type": "code",
   "execution_count": 12,
   "metadata": {},
   "outputs": [
    {
     "name": "stdout",
     "output_type": "stream",
     "text": [
      "4      11.801878\n",
      "5      50.397412\n",
      "7      49.000404\n",
      "8      53.724832\n",
      "9      10.366769\n",
      "         ...    \n",
      "537    93.552274\n",
      "539    49.279805\n",
      "540    88.764345\n",
      "541    40.580252\n",
      "542    84.700320\n",
      "Name: Latitude, Length: 382, dtype: float64\n",
      "y = -1.27x + 95.24\n"
     ]
    }
   ],
   "source": [
    "x_values = northern[\"Latitude\"]\n",
    "y_values = northern[\"Maximum Temperature\"]\n",
    "#linear regression\n",
    "(slope, intercept, rvalue, pvalue, stderr) = stats.linregress(x_values,y_values)\n",
    "regression_values = x_values * slope + intercept\n",
    "print(regression_values)\n",
    "line_equation = \"y = \" + str(round(slope,2)) + \"x + \" + str(round(intercept,2))\n",
    "print(line_equation)"
   ]
  },
  {
   "cell_type": "code",
   "execution_count": 13,
   "metadata": {},
   "outputs": [
    {
     "name": "stdout",
     "output_type": "stream",
     "text": [
      "The r-squared value is -0.884919517811542\n"
     ]
    },
    {
     "data": {
      "image/png": "[encoded data removed]",
      "text/plain": [
       "<Figure size 432x288 with 1 Axes>"
      ]
     },
     "metadata": {
      "needs_background": "light"
     },
     "output_type": "display_data"
    }
   ],
   "source": [
    "plt.scatter(x_values,y_values,edgecolors=\"black\")\n",
    "plt.plot(x_values,regression_values,\"r-\")\n",
    "\n",
    "plt.xlabel('Latitude')\n",
    "plt.ylabel('Maximum Temperature')\n",
    "plt.annotate(line_equation,(1,30),fontsize=15,color=\"red\")\n",
    "\n",
    "print(f\"The r-squared value is {rvalue}\")\n",
    "\n",
    "plt.show()"
   ]
  },
  {
   "cell_type": "markdown",
   "metadata": {},
   "source": [
    "Southern Hemisphere - Max Temp vs. Latitude Linear Regression"
   ]
  },
  {
   "cell_type": "code",
   "execution_count": 14,
   "metadata": {},
   "outputs": [
    {
     "name": "stdout",
     "output_type": "stream",
     "text": [
      "0      67.572299\n",
      "1      72.837967\n",
      "2      58.550909\n",
      "3      69.622422\n",
      "6      67.219270\n",
      "         ...    \n",
      "521    66.194208\n",
      "523    72.501951\n",
      "529    80.255838\n",
      "531    70.587936\n",
      "538    75.113518\n",
      "Name: Latitude, Length: 161, dtype: float64\n",
      "y = 0.43x + 81.86\n"
     ]
    }
   ],
   "source": [
    "x_values = southern[\"Latitude\"]\n",
    "y_values = southern[\"Maximum Temperature\"]\n",
    "#linear regression\n",
    "(slope, intercept, rvalue, pvalue, stderr) = stats.linregress(x_values,y_values)\n",
    "regression_values = x_values * slope + intercept\n",
    "print(regression_values)\n",
    "line_equation = \"y = \" + str(round(slope,2)) + \"x + \" + str(round(intercept,2))\n",
    "print(line_equation)"
   ]
  },
  {
   "cell_type": "code",
   "execution_count": 15,
   "metadata": {},
   "outputs": [
    {
     "name": "stdout",
     "output_type": "stream",
     "text": [
      "The r-squared value is 0.5626546288958808\n"
     ]
    },
    {
     "data": {
      "image/png": "[encoded data removed]",
      "text/plain": [
       "<Figure size 432x288 with 1 Axes>"
      ]
     },
     "metadata": {
      "needs_background": "light"
     },
     "output_type": "display_data"
    }
   ],
   "source": [
    "plt.scatter(x_values,y_values,edgecolors=\"black\")\n",
    "plt.plot(x_values,regression_values,\"r-\")\n",
    "\n",
    "plt.xlabel('Latitude')\n",
    "plt.ylabel('Maximum Temperature')\n",
    "plt.annotate(line_equation,(-40,90),fontsize=15,color=\"red\")\n",
    "\n",
    "print(f\"The r-squared value is {rvalue}\")\n",
    "\n",
    "plt.show()"
   ]
  },
  {
   "cell_type": "markdown",
   "metadata": {},
   "source": [
    "In the northern hemisphere the maximum temperature decreases as latitude increases. In the southern hemisphere the maximim temperature increases as latitude increases. The r-value for the northeren hemisphere is close to -1 so there could be a relationship between latitude and maximum temperature. The r-value for the southern hemisphere is not close to 1 so there is less of a relationship between latitude and maximum temperature in the southern hemisphere."
   ]
  },
  {
   "cell_type": "markdown",
   "metadata": {},
   "source": [
    "Northern Hemisphere - Humidity (%) vs. Latitude Linear Regression"
   ]
  },
  {
   "cell_type": "code",
   "execution_count": 16,
   "metadata": {},
   "outputs": [
    {
     "name": "stdout",
     "output_type": "stream",
     "text": [
      "4      75.659567\n",
      "5      66.589015\n",
      "7      66.917334\n",
      "8      65.807019\n",
      "9      75.996840\n",
      "         ...    \n",
      "537    56.446950\n",
      "539    66.851670\n",
      "540    57.572188\n",
      "541    68.896200\n",
      "542    58.527297\n",
      "Name: Latitude, Length: 382, dtype: float64\n",
      "y = 0.3x + 56.05\n"
     ]
    }
   ],
   "source": [
    "x_values = northern[\"Latitude\"]\n",
    "y_values = northern[\"Humidity\"]\n",
    "#linear regression\n",
    "(slope, intercept, rvalue, pvalue, stderr) = stats.linregress(x_values,y_values)\n",
    "regression_values = x_values * slope + intercept\n",
    "print(regression_values)\n",
    "line_equation = \"y = \" + str(round(slope,2)) + \"x + \" + str(round(intercept,2))\n",
    "print(line_equation)"
   ]
  },
  {
   "cell_type": "code",
   "execution_count": 17,
   "metadata": {},
   "outputs": [
    {
     "name": "stdout",
     "output_type": "stream",
     "text": [
      "The r-squared value is 0.2724128946564826\n"
     ]
    },
    {
     "data": {
      "image/png": "[encoded data removed]",
      "text/plain": [
       "<Figure size 432x288 with 1 Axes>"
      ]
     },
     "metadata": {
      "needs_background": "light"
     },
     "output_type": "display_data"
    }
   ],
   "source": [
    "plt.scatter(x_values,y_values,edgecolors=\"black\")\n",
    "plt.plot(x_values,regression_values,\"r-\")\n",
    "\n",
    "plt.xlabel('Latitude')\n",
    "plt.ylabel('Humidity')\n",
    "plt.annotate(line_equation,(1,30),fontsize=15,color=\"red\")\n",
    "\n",
    "print(f\"The r-squared value is {rvalue}\")\n",
    "\n",
    "plt.show()"
   ]
  },
  {
   "cell_type": "markdown",
   "metadata": {},
   "source": [
    "Southern Hemisphere - Humidity (%) vs. Latitude Linear Regression"
   ]
  },
  {
   "cell_type": "code",
   "execution_count": 18,
   "metadata": {},
   "outputs": [
    {
     "name": "stdout",
     "output_type": "stream",
     "text": [
      "0      71.960373\n",
      "1      77.359478\n",
      "2      62.710374\n",
      "3      74.062448\n",
      "6      71.598398\n",
      "         ...    \n",
      "521    70.547361\n",
      "523    77.014947\n",
      "529    84.965324\n",
      "531    75.052429\n",
      "538    79.692693\n",
      "Name: Latitude, Length: 161, dtype: float64\n",
      "y = 0.44x + 86.61\n"
     ]
    }
   ],
   "source": [
    "x_values = southern[\"Latitude\"]\n",
    "y_values = southern[\"Humidity\"]\n",
    "#linear regression\n",
    "(slope, intercept, rvalue, pvalue, stderr) = stats.linregress(x_values,y_values)\n",
    "regression_values = x_values * slope + intercept\n",
    "print(regression_values)\n",
    "line_equation = \"y = \" + str(round(slope,2)) + \"x + \" + str(round(intercept,2))\n",
    "print(line_equation)"
   ]
  },
  {
   "cell_type": "code",
   "execution_count": 19,
   "metadata": {},
   "outputs": [
    {
     "name": "stdout",
     "output_type": "stream",
     "text": [
      "The r-squared value is 0.3312454199915582\n"
     ]
    },
    {
     "data": {
      "image/png": "[encoded data removed]",
      "text/plain": [
       "<Figure size 432x288 with 1 Axes>"
      ]
     },
     "metadata": {
      "needs_background": "light"
     },
     "output_type": "display_data"
    }
   ],
   "source": [
    "plt.scatter(x_values,y_values,edgecolors=\"black\")\n",
    "plt.plot(x_values,regression_values,\"r-\")\n",
    "\n",
    "plt.xlabel('Latitude')\n",
    "plt.ylabel('Humidity')\n",
    "plt.annotate(line_equation,(-1,30),fontsize=15,color=\"red\")\n",
    "\n",
    "print(f\"The r-squared value is {rvalue}\")\n",
    "\n",
    "plt.show()"
   ]
  },
  {
   "cell_type": "markdown",
   "metadata": {},
   "source": [
    "On both graphs the humidity increases as the latitude increases. The r-values are close to zero so there really is not a relationship between latitude and humidity."
   ]
  },
  {
   "cell_type": "markdown",
   "metadata": {},
   "source": [
    "Northern Hemisphere - Cloudiness (%) vs. Latitude Linear Regression"
   ]
  },
  {
   "cell_type": "code",
   "execution_count": 20,
   "metadata": {},
   "outputs": [
    {
     "name": "stdout",
     "output_type": "stream",
     "text": [
      "4      60.552310\n",
      "5      53.778273\n",
      "7      54.023467\n",
      "8      53.194266\n",
      "9      60.804191\n",
      "         ...    \n",
      "537    46.204012\n",
      "539    53.974428\n",
      "540    47.044358\n",
      "541    55.501317\n",
      "542    47.757650\n",
      "Name: Latitude, Length: 382, dtype: float64\n",
      "y = 0.22x + 45.91\n"
     ]
    }
   ],
   "source": [
    "x_values = northern[\"Latitude\"]\n",
    "y_values = northern[\"Cloudiness\"]\n",
    "#linear regression\n",
    "(slope, intercept, rvalue, pvalue, stderr) = stats.linregress(x_values,y_values)\n",
    "regression_values = x_values * slope + intercept\n",
    "print(regression_values)\n",
    "line_equation = \"y = \" + str(round(slope,2)) + \"x + \" + str(round(intercept,2))\n",
    "print(line_equation)"
   ]
  },
  {
   "cell_type": "code",
   "execution_count": 21,
   "metadata": {},
   "outputs": [
    {
     "name": "stdout",
     "output_type": "stream",
     "text": [
      "The r-squared value is 0.12124241792245416\n"
     ]
    },
    {
     "data": {
      "image/png": "[encoded data removed]",
      "text/plain": [
       "<Figure size 432x288 with 1 Axes>"
      ]
     },
     "metadata": {
      "needs_background": "light"
     },
     "output_type": "display_data"
    }
   ],
   "source": [
    "plt.scatter(x_values,y_values,edgecolors=\"black\")\n",
    "plt.plot(x_values,regression_values,\"r-\")\n",
    "\n",
    "plt.xlabel('Latitude')\n",
    "plt.ylabel('Cloudiness')\n",
    "plt.annotate(line_equation,(1,30),fontsize=15,color=\"red\")\n",
    "\n",
    "print(f\"The r-squared value is {rvalue}\")\n",
    "\n",
    "plt.show()"
   ]
  },
  {
   "cell_type": "markdown",
   "metadata": {},
   "source": [
    "Southern Hemisphere - Cloudiness (%) vs. Latitude Linear Regression\n"
   ]
  },
  {
   "cell_type": "code",
   "execution_count": 22,
   "metadata": {},
   "outputs": [
    {
     "name": "stdout",
     "output_type": "stream",
     "text": [
      "0      45.579675\n",
      "1      56.177472\n",
      "2      27.423028\n",
      "3      49.705796\n",
      "6      44.869160\n",
      "         ...    \n",
      "521    42.806099\n",
      "523    55.501199\n",
      "529    71.106841\n",
      "531    51.649011\n",
      "538    60.757296\n",
      "Name: Latitude, Length: 161, dtype: float64\n",
      "y = 0.86x + 74.33\n"
     ]
    }
   ],
   "source": [
    "x_values = southern[\"Latitude\"]\n",
    "y_values = southern[\"Cloudiness\"]\n",
    "#linear regression\n",
    "(slope, intercept, rvalue, pvalue, stderr) = stats.linregress(x_values,y_values)\n",
    "regression_values = x_values * slope + intercept\n",
    "print(regression_values)\n",
    "line_equation = \"y = \" + str(round(slope,2)) + \"x + \" + str(round(intercept,2))\n",
    "print(line_equation)"
   ]
  },
  {
   "cell_type": "code",
   "execution_count": 23,
   "metadata": {},
   "outputs": [
    {
     "name": "stdout",
     "output_type": "stream",
     "text": [
      "The r-squared value is 0.2976504368805993\n"
     ]
    },
    {
     "data": {
      "image/png": "[encoded data removed]",
      "text/plain": [
       "<Figure size 432x288 with 1 Axes>"
      ]
     },
     "metadata": {
      "needs_background": "light"
     },
     "output_type": "display_data"
    }
   ],
   "source": [
    "plt.scatter(x_values,y_values,edgecolors=\"black\")\n",
    "plt.plot(x_values,regression_values,\"r-\")\n",
    "\n",
    "plt.xlabel('Latitude')\n",
    "plt.ylabel('Cloudiness')\n",
    "plt.annotate(line_equation,(-1,30),fontsize=15,color=\"red\")\n",
    "\n",
    "print(f\"The r-squared value is {rvalue}\")\n",
    "\n",
    "plt.show()"
   ]
  },
  {
   "cell_type": "markdown",
   "metadata": {},
   "source": [
    "In the northern hemisphere graph the points seem all scattered everywhere. In the southern hemisphere graph cloudiness seems to increase as latitude increses. Both of the r-values for the northern and southern hemisphere are low or close to zero so there is no relationship between latitude and cloudiness.\n"
   ]
  },
  {
   "cell_type": "markdown",
   "metadata": {},
   "source": [
    "Northern Hemisphere - Wind Speed (mph) vs. Latitude Linear Regression"
   ]
  },
  {
   "cell_type": "code",
   "execution_count": 24,
   "metadata": {},
   "outputs": [
    {
     "name": "stdout",
     "output_type": "stream",
     "text": [
      "4      10.647200\n",
      "5       8.759855\n",
      "7       8.828169\n",
      "8       8.597142\n",
      "9      10.717378\n",
      "         ...    \n",
      "537     6.649555\n",
      "539     8.814506\n",
      "540     6.883688\n",
      "541     9.239920\n",
      "542     7.082421\n",
      "Name: Latitude, Length: 382, dtype: float64\n",
      "y = 0.06x + 6.57\n"
     ]
    }
   ],
   "source": [
    "x_values = northern[\"Latitude\"]\n",
    "y_values = northern[\"Wind Speed\"]\n",
    "#linear regression\n",
    "(slope, intercept, rvalue, pvalue, stderr) = stats.linregress(x_values,y_values)\n",
    "regression_values = x_values * slope + intercept\n",
    "print(regression_values)\n",
    "line_equation = \"y = \" + str(round(slope,2)) + \"x + \" + str(round(intercept,2))\n",
    "print(line_equation)"
   ]
  },
  {
   "cell_type": "code",
   "execution_count": 25,
   "metadata": {},
   "outputs": [
    {
     "name": "stdout",
     "output_type": "stream",
     "text": [
      "The r-squared value is 0.19942848856603967\n"
     ]
    },
    {
     "data": {
      "image/png": "[encoded data removed]",
      "text/plain": [
       "<Figure size 432x288 with 1 Axes>"
      ]
     },
     "metadata": {
      "needs_background": "light"
     },
     "output_type": "display_data"
    }
   ],
   "source": [
    "plt.scatter(x_values,y_values,edgecolors=\"black\")\n",
    "plt.plot(x_values,regression_values,\"r-\")\n",
    "\n",
    "plt.xlabel('Latitude')\n",
    "plt.ylabel('Wind Speed')\n",
    "plt.annotate(line_equation,(1,30),fontsize=15,color=\"red\")\n",
    "\n",
    "print(f\"The r-squared value is {rvalue}\")\n",
    "\n",
    "plt.show()"
   ]
  },
  {
   "cell_type": "markdown",
   "metadata": {},
   "source": [
    "Southern Hemisphere - Wind Speed (mph) vs. Latitude Linear Regression"
   ]
  },
  {
   "cell_type": "code",
   "execution_count": 26,
   "metadata": {},
   "outputs": [
    {
     "name": "stdout",
     "output_type": "stream",
     "text": [
      "0       9.902777\n",
      "1       8.240931\n",
      "2      12.749930\n",
      "3       9.255757\n",
      "6      10.014193\n",
      "         ...    \n",
      "521    10.337703\n",
      "523     8.346977\n",
      "529     5.899848\n",
      "531     8.951041\n",
      "538     7.522766\n",
      "Name: Latitude, Length: 161, dtype: float64\n",
      "y = -0.13x + 5.39\n"
     ]
    }
   ],
   "source": [
    "x_values = southern[\"Latitude\"]\n",
    "y_values = southern[\"Wind Speed\"]\n",
    "#linear regression\n",
    "(slope, intercept, rvalue, pvalue, stderr) = stats.linregress(x_values,y_values)\n",
    "regression_values = x_values * slope + intercept\n",
    "print(regression_values)\n",
    "line_equation = \"y = \" + str(round(slope,2)) + \"x + \" + str(round(intercept,2))\n",
    "print(line_equation)"
   ]
  },
  {
   "cell_type": "code",
   "execution_count": 27,
   "metadata": {},
   "outputs": [
    {
     "name": "stdout",
     "output_type": "stream",
     "text": [
      "The r-squared value is -0.31616305543936574\n"
     ]
    },
    {
     "data": {
      "image/png": "[encoded data removed]",
      "text/plain": [
       "<Figure size 432x288 with 1 Axes>"
      ]
     },
     "metadata": {
      "needs_background": "light"
     },
     "output_type": "display_data"
    }
   ],
   "source": [
    "plt.scatter(x_values,y_values,edgecolors=\"black\")\n",
    "plt.plot(x_values,regression_values,\"r-\")\n",
    "\n",
    "plt.xlabel('Latitude')\n",
    "plt.ylabel('Wind Speed')\n",
    "plt.annotate(line_equation,(-1,30),fontsize=15,color=\"red\")\n",
    "\n",
    "print(f\"The r-squared value is {rvalue}\")\n",
    "\n",
    "plt.show()"
   ]
  },
  {
   "cell_type": "markdown",
   "metadata": {},
   "source": [
    "In the northern hemipshere graph the wind speed seems to stay almost the same as latitude increases. In the southern hemisphere graph the wind speed seems to decrease slightly as latitude increases. Both of the r-values are close to zero which means that there is no relationship between latitude and wind speed.\n"
   ]
  }
 ],
 "metadata": {
  "anaconda-cloud": {},
  "kernel_info": {
   "name": "python3"
  },
  "kernelspec": {
   "display_name": "Python 3",
   "language": "python",
   "name": "python3"
  },
  "language_info": {
   "codemirror_mode": {
    "name": "ipython",
    "version": 3
   },
   "file_extension": ".py",
   "mimetype": "text/x-python",
   "name": "python",
   "nbconvert_exporter": "python",
   "pygments_lexer": "ipython3",
   "version": "3.7.4"
  },
  "latex_envs": {
   "LaTeX_envs_menu_present": true,
   "autoclose": false,
   "autocomplete": true,
   "bibliofile": "biblio.bib",
   "cite_by": "apalike",
   "current_citInitial": 1,
   "eqLabelWithNumbers": true,
   "eqNumInitial": 1,
   "hotkeys": {
    "equation": "Ctrl-E",
    "itemize": "Ctrl-I"
   },
   "labels_anchors": false,
   "latex_user_defs": false,
   "report_style_numbering": false,
   "user_envs_cfg": false
  },
  "nteract": {
   "version": "0.12.3"
  }
 },
 "nbformat": 4,
 "nbformat_minor": 2
}
